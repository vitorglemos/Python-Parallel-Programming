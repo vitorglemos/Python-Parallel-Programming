{
 "cells": [
  {
   "cell_type": "code",
   "execution_count": 1,
   "metadata": {},
   "outputs": [
    {
     "name": "stdout",
     "output_type": "stream",
     "text": [
      "Number CPU-cores : 4\n"
     ]
    }
   ],
   "source": [
    "import time\n",
    "import multiprocessing\n",
    "\n",
    "cpu_cores = multiprocessing.cpu_count()\n",
    "print(\"Number CPU-cores :\", cpu_cores)"
   ]
  },
  {
   "cell_type": "code",
   "execution_count": 5,
   "metadata": {},
   "outputs": [
    {
     "name": "stdout",
     "output_type": "stream",
     "text": [
      "1 is not a prime number number\n",
      "2 is prime number number\n",
      "3 is prime number number\n",
      "4 is not a prime number number\n",
      "5 is prime number number\n",
      "6 is not a prime number number\n",
      "7 is prime number number\n",
      "8 is not a prime number number\n",
      "9 is not a prime number number\n",
      "\n",
      "Time taken = 18.02578830718994 seconds\n"
     ]
    }
   ],
   "source": [
    "\n",
    "def is_prime(n):\n",
    "    if (n <= 1) : \n",
    "        return 'not a prime number'\n",
    "    if (n <= 3) : \n",
    "        return 'prime number'\n",
    "          \n",
    "    if (n % 2 == 0 or n % 3 == 0) : \n",
    "        return 'not a prime number'\n",
    "    \n",
    "    i = 5\n",
    "    while(i * i <= n) : \n",
    "        if (n % i == 0 or n % (i + 2) == 0) : \n",
    "            return 'not a prime number'\n",
    "        i = i + 6\n",
    "    \n",
    "    return 'prime number'\n",
    "    \n",
    "starttime = time.time()\n",
    "for i in range(1,10):\n",
    "    time.sleep(2)\n",
    "    print('{} is {} number'.format(i, is_prime(i)))\n",
    "print() \n",
    "not_parallel = time.time() - starttime   \n",
    "print('Time taken = {} seconds'.format(not_parallel))"
   ]
  },
  {
   "cell_type": "code",
   "execution_count": 11,
   "metadata": {},
   "outputs": [
    {
     "name": "stdout",
     "output_type": "stream",
     "text": [
      "15.236513137817383\n"
     ]
    }
   ],
   "source": [
    "import time\n",
    " \n",
    "def fun(input_list):\n",
    "    for i in range(len(input_list)):\n",
    "        input_list[i]**1000\n",
    " \n",
    "\n",
    "input_list = [1000] * 1000000\n",
    " \n",
    "start_time = time.time()\n",
    "fun(input_list)\n",
    "end_time = time.time()\n",
    " \n",
    "print(end_time - start_time)"
   ]
  },
  {
   "cell_type": "code",
   "execution_count": 58,
   "metadata": {},
   "outputs": [],
   "source": [
    "import time\n",
    "\n",
    "def fun(ele):\n",
    "    ele**1000\n",
    "        \n",
    "def execution(n_cores):\n",
    " \n",
    "    input_list = [1000]*1000000\n",
    "    n = 250000\n",
    "\n",
    "    pool = multiprocessing.Pool(n_cores)\n",
    "    result = pool.map(func=fun, iterable=input_list, chunksize=n)\n",
    "    pool.close()\n",
    "    pool.join()"
   ]
  },
  {
   "cell_type": "code",
   "execution_count": 51,
   "metadata": {},
   "outputs": [
    {
     "name": "stdout",
     "output_type": "stream",
     "text": [
      "CPU-Cores:  1  execution time:  16.854899168014526 seconds\n"
     ]
    }
   ],
   "source": [
    "cores = 1\n",
    "start_time = time.time()\n",
    "execution(cores)\n",
    "end_time = time.time()\n",
    "    \n",
    "time =  end_time-start_time\n",
    "print(\"CPU-Cores: \", cores, \" execution time: \", time, \"seconds\")"
   ]
  },
  {
   "cell_type": "code",
   "execution_count": 55,
   "metadata": {},
   "outputs": [
    {
     "name": "stdout",
     "output_type": "stream",
     "text": [
      "CPU-Cores:  2  execution time:  7.981280326843262 seconds\n"
     ]
    }
   ],
   "source": [
    "cores = 2\n",
    "start_time = time.time()\n",
    "execution(cores)\n",
    "end_time = time.time()\n",
    "    \n",
    "time =  end_time-start_time\n",
    "print(\"CPU-Cores: \", cores, \" execution time: \", time, \"seconds\")"
   ]
  },
  {
   "cell_type": "code",
   "execution_count": 57,
   "metadata": {},
   "outputs": [
    {
     "name": "stdout",
     "output_type": "stream",
     "text": [
      "CPU-Cores:  3  execution time:  8.153156042098999 seconds\n"
     ]
    }
   ],
   "source": [
    "cores = 3\n",
    "start_time = time.time()\n",
    "execution(cores)\n",
    "end_time = time.time()\n",
    "    \n",
    "time =  end_time-start_time\n",
    "print(\"CPU-Cores: \", cores, \" execution time: \", time, \"seconds\")"
   ]
  },
  {
   "cell_type": "code",
   "execution_count": 59,
   "metadata": {},
   "outputs": [
    {
     "name": "stdout",
     "output_type": "stream",
     "text": [
      "CPU-Cores:  4  execution time:  7.716024398803711 seconds\n"
     ]
    }
   ],
   "source": [
    "cores = 4\n",
    "start_time = time.time()\n",
    "execution(cores)\n",
    "end_time = time.time()\n",
    "    \n",
    "time =  end_time-start_time\n",
    "print(\"CPU-Cores: \", cores, \" execution time: \", time, \"seconds\")"
   ]
  }
 ],
 "metadata": {
  "kernelspec": {
   "display_name": "Python 3",
   "language": "python",
   "name": "python3"
  },
  "language_info": {
   "codemirror_mode": {
    "name": "ipython",
    "version": 3
   },
   "file_extension": ".py",
   "mimetype": "text/x-python",
   "name": "python",
   "nbconvert_exporter": "python",
   "pygments_lexer": "ipython3",
   "version": "3.8.5"
  }
 },
 "nbformat": 4,
 "nbformat_minor": 4
}
