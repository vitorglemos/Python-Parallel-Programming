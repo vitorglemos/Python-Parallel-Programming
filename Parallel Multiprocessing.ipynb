{
 "cells": [
  {
   "cell_type": "code",
   "execution_count": null,
   "metadata": {},
   "outputs": [],
   "source": []
  },
  {
   "cell_type": "code",
   "execution_count": 11,
   "metadata": {},
   "outputs": [
    {
     "name": "stdout",
     "output_type": "stream",
     "text": [
      "{'a': 1, 'b': 2, 'c': 3}\n"
     ]
    }
   ],
   "source": [
    "import multiprocessing\n",
    "manager = multiprocessing.Manager()\n",
    "shared_dict = manager.dict()\n",
    "\n",
    "def worker1(d):\n",
    "    d[\"a\"] = 1\n",
    "\n",
    "def worker2(d):\n",
    "    d[\"b\"] = 2\n",
    "    \n",
    "def worker3(d):\n",
    "    d[\"c\"] = 3\n",
    "\n",
    "process1 = multiprocessing.Process(\n",
    "    target=worker1, args=[shared_dict])\n",
    "process2 = multiprocessing.Process(\n",
    "    target=worker2, args=[shared_dict])\n",
    "process3 = multiprocessing.Process(\n",
    "    target=worker3, args=[shared_dict])\n",
    "\n",
    "process1.start()\n",
    "process2.start()\n",
    "process3.start()\n",
    "process1.join()\n",
    "process2.join()\n",
    "process3.join()\n",
    "\n",
    "print(shared_dict)"
   ]
  },
  {
   "cell_type": "code",
   "execution_count": 16,
   "metadata": {},
   "outputs": [
    {
     "name": "stdout",
     "output_type": "stream",
     "text": [
      "Starting running_process \n",
      "\n",
      "Starting Process-44 \n",
      "\n",
      "Closing running_process \n",
      "\n",
      "Closing Process-44 \n",
      "\n"
     ]
    }
   ],
   "source": [
    "import multiprocessing\n",
    "import time\n",
    "\n",
    "def running_process():\n",
    "    name = multiprocessing.current_process().name\n",
    "    print (f\"Starting {name} \\n\")\n",
    "    time.sleep(3)\n",
    "    print (f\"Closing {name} \\n\")\n",
    "\n",
    "\n",
    "process_with_name = multiprocessing.Process(name='running_process', target=running_process)\n",
    "\n",
    "process_with_name.daemon = True\n",
    "process_with_default_name = multiprocessing.Process(target=foo)\n",
    "\n",
    "process_with_name.start()\n",
    "process_with_default_name.start()"
   ]
  },
  {
   "cell_type": "code",
   "execution_count": 17,
   "metadata": {},
   "outputs": [
    {
     "name": "stdout",
     "output_type": "stream",
     "text": [
      "Status before execution: <Process name='Process-45' parent=8735 initial> False\n",
      "Process running: <Process name='Process-45' pid=12164 parent=8735 started> True\n",
      "Process terminated: <Process name='Process-45' pid=12164 parent=8735 started> True\n",
      "Process joined: <Process name='Process-45' pid=12164 parent=8735 stopped exitcode=-SIGTERM> False\n"
     ]
    }
   ],
   "source": [
    "def running_process():\n",
    "    print ('Starting process')\n",
    "    time.sleep(0.2)\n",
    "    print ('Finished process')\n",
    "    \n",
    "\n",
    "process = multiprocessing.Process(target=running_process)\n",
    "print ('Status before execution:', process, process.is_alive())\n",
    "\n",
    "process.start()\n",
    "print ('Process running:',  process, process.is_alive())\n",
    " \n",
    "    \n",
    "process.terminate()\n",
    "print ('Process terminated:', process, process.is_alive())\n",
    "\n",
    "process.join()\n",
    "print ('Process joined:', process, process.is_alive())"
   ]
  },
  {
   "cell_type": "code",
   "execution_count": null,
   "metadata": {},
   "outputs": [],
   "source": []
  }
 ],
 "metadata": {
  "kernelspec": {
   "display_name": "Python 3",
   "language": "python",
   "name": "python3"
  },
  "language_info": {
   "codemirror_mode": {
    "name": "ipython",
    "version": 3
   },
   "file_extension": ".py",
   "mimetype": "text/x-python",
   "name": "python",
   "nbconvert_exporter": "python",
   "pygments_lexer": "ipython3",
   "version": "3.8.5"
  }
 },
 "nbformat": 4,
 "nbformat_minor": 4
}
