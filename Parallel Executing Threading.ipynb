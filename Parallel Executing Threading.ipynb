{
 "cells": [
  {
   "cell_type": "markdown",
   "metadata": {},
   "source": [
    "\n",
    "## Parallel Programming in Python\n",
    "### Multithreading execution\n"
   ]
  },
  {
   "cell_type": "code",
   "execution_count": 3,
   "metadata": {},
   "outputs": [],
   "source": [
    "import time\n",
    "import _thread as thread\n",
    "\n",
    "from random import randint"
   ]
  },
  {
   "cell_type": "markdown",
   "metadata": {},
   "source": [
    "### Threads and resources shared control using mutex\n",
    "\n",
    "\n",
    "<img src='https://s3-us-west-2.amazonaws.com/mbed-os-docs-images/Semaphore.png'>"
   ]
  },
  {
   "cell_type": "code",
   "execution_count": 4,
   "metadata": {},
   "outputs": [
    {
     "name": "stdout",
     "output_type": "stream",
     "text": [
      "Thread  2  --> blue\n",
      "Thread  0  --> blue\n",
      "Thread  3  --> blue\n",
      "Thread End threading!\n",
      " 1  --> blue\n",
      "Thread  1  --> green\n",
      "Thread  1  --> red\n",
      "Thread  2  --> green\n",
      "Thread  1  --> orange\n",
      "Thread  3  --> green\n",
      "Thread  0  --> green\n",
      "Thread  2  --> red\n",
      "Thread  0  --> red\n",
      "Thread  0  --> orange\n",
      "Thread  2  --> orange\n",
      "Thread  3  --> red\n",
      "Thread  3  --> orange\n"
     ]
    }
   ],
   "source": [
    "array_color = ['blue', 'green', 'red', 'orangeimport time']\n",
    "\n",
    "def shared_resource_print(thread_id, index):\n",
    "    print('Thread ', thread_id, ' -->', array_color[index]);\n",
    "    \n",
    "def sleeprandom():\n",
    "    return randint(0, 9)\n",
    "\n",
    "def execution(threading, count):\n",
    "    for i in range(0, count):\n",
    "        second = sleeprandom();\n",
    "        time.sleep(second);\n",
    "        \n",
    "        # semaphore\n",
    "        mutex.acquire();\n",
    "        shared_resource_print(threading, i);\n",
    "        mutex.release();\n",
    "        \n",
    "mutex = thread.allocate_lock();\n",
    "number_threads = 4;\n",
    "for i in range(number_threads):\n",
    "    thread.start_new_thread(execution, (i, number_threads))\n",
    "\n",
    "time.sleep(6);\n",
    "print('End threading!')\n",
    "   "
   ]
  }
 ],
 "metadata": {
  "kernelspec": {
   "display_name": "Python 3",
   "language": "python",
   "name": "python3"
  },
  "language_info": {
   "codemirror_mode": {
    "name": "ipython",
    "version": 3
   },
   "file_extension": ".py",
   "mimetype": "text/x-python",
   "name": "python",
   "nbconvert_exporter": "python",
   "pygments_lexer": "ipython3",
   "version": "3.8.5"
  }
 },
 "nbformat": 4,
 "nbformat_minor": 2
}
